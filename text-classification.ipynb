{
 "cells": [
  {
   "cell_type": "code",
   "execution_count": 1,
   "metadata": {},
   "outputs": [],
   "source": [
    "import pickle\n",
    "import re\n",
    "\n",
    "# nltk\n",
    "import nltk\n",
    "import pandas as pd\n",
    "from nltk.corpus import stopwords\n",
    "from nltk.stem import WordNetLemmatizer\n",
    "\n",
    "# sklearn\n",
    "from sklearn.feature_extraction.text import TfidfVectorizer\n",
    "from sklearn.linear_model import LogisticRegression\n",
    "from sklearn.metrics import classification_report\n",
    "from sklearn.model_selection import train_test_split\n",
    "from sklearn.naive_bayes import BernoulliNB\n",
    "from sklearn.svm import LinearSVC\n",
    "from tqdm import tqdm"
   ]
  },
  {
   "cell_type": "code",
   "execution_count": 2,
   "metadata": {},
   "outputs": [],
   "source": [
    "# Get the dataset here: https://www.kaggle.com/datasets/kazan...\n",
    "DATASET_COLUMNS = [\"sentiment\", \"ids\", \"date\", \"flag\", \"user\", \"text\"]\n",
    "DATASET_ENCODING = \"ISO-8859-1\"\n",
    "dataset = pd.read_csv(\n",
    "    \"data/training.1600000.processed.noemoticon.csv\",\n",
    "    encoding=DATASET_ENCODING,\n",
    "    names=DATASET_COLUMNS,\n",
    ")\n",
    "\n",
    "# Removing unnecessary columns\n",
    "dataset = dataset[[\"sentiment\", \"text\"]]\n",
    "# Replacing the values to ease understanding\n",
    "dataset[\"sentiment\"] = dataset[\"sentiment\"].replace(4, 1)\n",
    "\n",
    "# Storing data in lists\n",
    "text, sentiment = list(dataset[\"text\"]), list(dataset[\"sentiment\"])"
   ]
  },
  {
   "cell_type": "code",
   "execution_count": 3,
   "metadata": {},
   "outputs": [
    {
     "name": "stdout",
     "output_type": "stream",
     "text": [
      "emojis: 32\n",
      "stopwords (manually defined): 136\n"
     ]
    }
   ],
   "source": [
    "# Defining dictionary containing all emojis with their meanings.\n",
    "emojis = {\n",
    "    \":)\": \"smile\",\n",
    "    \":-)\": \"smile\",\n",
    "    \";d\": \"wink\",\n",
    "    \":-E\": \"vampire\",\n",
    "    \":(\": \"sad\",\n",
    "    \":-(\": \"sad\",\n",
    "    \":-<\": \"sad\",\n",
    "    \":P\": \"raspberry\",\n",
    "    \":O\": \"surprised\",\n",
    "    \":-@\": \"shocked\",\n",
    "    \":@\": \"shocked\",\n",
    "    \":-$\": \"confused\",\n",
    "    \":\\\\\": \"annoyed\",\n",
    "    \":#\": \"mute\",\n",
    "    \":X\": \"mute\",\n",
    "    \":^)\": \"smile\",\n",
    "    \":-&\": \"confused\",\n",
    "    \"$_$\": \"greedy\",\n",
    "    \"@@\": \"eyeroll\",\n",
    "    \":-!\": \"confused\",\n",
    "    \":-D\": \"smile\",\n",
    "    \":-0\": \"yell\",\n",
    "    \"O.o\": \"confused\",\n",
    "    \"<(-_-)>\": \"robot\",\n",
    "    \"d[-_-]b\": \"dj\",\n",
    "    \":'-)\": \"sadsmile\",\n",
    "    \";)\": \"wink\",\n",
    "    \";-)\": \"wink\",\n",
    "    \"O:-)\": \"angel\",\n",
    "    \"O*-)\": \"angel\",\n",
    "    \"(:-D\": \"gossip\",\n",
    "    \"=^.^=\": \"cat\",\n",
    "}\n",
    "\n",
    "# Defining set containing all stopwords in english.\n",
    "stopwords_manual = [\n",
    "    \"a\",\n",
    "    \"about\",\n",
    "    \"above\",\n",
    "    \"after\",\n",
    "    \"again\",\n",
    "    \"ain\",\n",
    "    \"all\",\n",
    "    \"am\",\n",
    "    \"an\",\n",
    "    \"and\",\n",
    "    \"any\",\n",
    "    \"are\",\n",
    "    \"as\",\n",
    "    \"at\",\n",
    "    \"be\",\n",
    "    \"because\",\n",
    "    \"been\",\n",
    "    \"before\",\n",
    "    \"being\",\n",
    "    \"below\",\n",
    "    \"between\",\n",
    "    \"both\",\n",
    "    \"by\",\n",
    "    \"can\",\n",
    "    \"d\",\n",
    "    \"did\",\n",
    "    \"do\",\n",
    "    \"does\",\n",
    "    \"doing\",\n",
    "    \"down\",\n",
    "    \"during\",\n",
    "    \"each\",\n",
    "    \"few\",\n",
    "    \"for\",\n",
    "    \"from\",\n",
    "    \"further\",\n",
    "    \"had\",\n",
    "    \"has\",\n",
    "    \"have\",\n",
    "    \"having\",\n",
    "    \"he\",\n",
    "    \"her\",\n",
    "    \"here\",\n",
    "    \"hers\",\n",
    "    \"herself\",\n",
    "    \"him\",\n",
    "    \"himself\",\n",
    "    \"his\",\n",
    "    \"how\",\n",
    "    \"i\",\n",
    "    \"if\",\n",
    "    \"in\",\n",
    "    \"into\",\n",
    "    \"is\",\n",
    "    \"it\",\n",
    "    \"its\",\n",
    "    \"itself\",\n",
    "    \"just\",\n",
    "    \"ll\",\n",
    "    \"m\",\n",
    "    \"ma\",\n",
    "    \"me\",\n",
    "    \"more\",\n",
    "    \"most\",\n",
    "    \"my\",\n",
    "    \"myself\",\n",
    "    \"now\",\n",
    "    \"o\",\n",
    "    \"of\",\n",
    "    \"on\",\n",
    "    \"once\",\n",
    "    \"only\",\n",
    "    \"or\",\n",
    "    \"other\",\n",
    "    \"our\",\n",
    "    \"ours\",\n",
    "    \"ourselves\",\n",
    "    \"out\",\n",
    "    \"own\",\n",
    "    \"re\",\n",
    "    \"s\",\n",
    "    \"same\",\n",
    "    \"she\",\n",
    "    \"shes\",\n",
    "    \"should\",\n",
    "    \"shouldve\",\n",
    "    \"so\",\n",
    "    \"some\",\n",
    "    \"such\",\n",
    "    \"t\",\n",
    "    \"than\",\n",
    "    \"that\",\n",
    "    \"thatll\",\n",
    "    \"the\",\n",
    "    \"their\",\n",
    "    \"theirs\",\n",
    "    \"them\",\n",
    "    \"themselves\",\n",
    "    \"then\",\n",
    "    \"there\",\n",
    "    \"these\",\n",
    "    \"they\",\n",
    "    \"this\",\n",
    "    \"those\",\n",
    "    \"through\",\n",
    "    \"to\",\n",
    "    \"too\",\n",
    "    \"under\",\n",
    "    \"until\",\n",
    "    \"up\",\n",
    "    \"ve\",\n",
    "    \"very\",\n",
    "    \"was\",\n",
    "    \"we\",\n",
    "    \"were\",\n",
    "    \"what\",\n",
    "    \"when\",\n",
    "    \"where\",\n",
    "    \"which\",\n",
    "    \"while\",\n",
    "    \"who\",\n",
    "    \"whom\",\n",
    "    \"why\",\n",
    "    \"will\",\n",
    "    \"with\",\n",
    "    \"won\",\n",
    "    \"y\",\n",
    "    \"you\",\n",
    "    \"youd\",\n",
    "    \"youll\",\n",
    "    \"youre\",\n",
    "    \"youve\",\n",
    "    \"your\",\n",
    "    \"yours\",\n",
    "    \"yourself\",\n",
    "    \"yourselves\",\n",
    "]\n",
    "\n",
    "\n",
    "print(\"emojis:\", len(emojis))\n",
    "print(\"stopwords (manually defined):\", len(stopwords_manual))"
   ]
  },
  {
   "cell_type": "code",
   "execution_count": 4,
   "metadata": {},
   "outputs": [
    {
     "name": "stdout",
     "output_type": "stream",
     "text": [
      "stopwords (nltk): 179\n"
     ]
    }
   ],
   "source": [
    "# nltk.download(\"stopwords\")  # uncomment to download\n",
    "stopwords_nltk = stopwords.words(\"english\")\n",
    "\n",
    "print(\"stopwords (nltk):\", len(stopwords_nltk))"
   ]
  },
  {
   "cell_type": "code",
   "execution_count": 5,
   "metadata": {},
   "outputs": [
    {
     "name": "stdout",
     "output_type": "stream",
     "text": [
      "stopwords (nltk + manually defined): 186\n"
     ]
    }
   ],
   "source": [
    "all_stopwords = list(set(stopwords_manual + stopwords_nltk))\n",
    "\n",
    "\n",
    "print(\"stopwords (nltk + manually defined):\", len(all_stopwords))"
   ]
  },
  {
   "cell_type": "code",
   "execution_count": 6,
   "metadata": {},
   "outputs": [
    {
     "name": "stderr",
     "output_type": "stream",
     "text": [
      "[nltk_data] Downloading package omw-1.4 to\n",
      "[nltk_data]     /Users/wilsvenleong/nltk_data...\n",
      "[nltk_data]   Package omw-1.4 is already up-to-date!\n",
      "[nltk_data] Downloading package wordnet to\n",
      "[nltk_data]     /Users/wilsvenleong/nltk_data...\n",
      "[nltk_data]   Package wordnet is already up-to-date!\n"
     ]
    },
    {
     "data": {
      "text/plain": [
       "True"
      ]
     },
     "execution_count": 6,
     "metadata": {},
     "output_type": "execute_result"
    }
   ],
   "source": [
    "nltk.download(\"omw-1.4\")\n",
    "nltk.download(\"wordnet\")"
   ]
  },
  {
   "cell_type": "code",
   "execution_count": 7,
   "metadata": {},
   "outputs": [],
   "source": [
    "lemmatizer = WordNetLemmatizer()\n",
    "# grouping together the inflected forms (\"better\" -> \"good\")\n",
    "\n",
    "\n",
    "def preprocess(text_data: list[str]) -> list[str]:\n",
    "    processed_text = []\n",
    "\n",
    "    # Defining regex patterns\n",
    "    url_pattern = r\"((http://)[^ ]*|(https://)[^ ]*|( www\\.)[^ ]*)\"\n",
    "    user_pattern = r\"@[^\\s]+\"\n",
    "    alpha_pattern = r\"[^a-zA-Z0-9]\"\n",
    "    sequence_pattern = r\"(.)\\1\\1+\"\n",
    "    seq_replace_pattern = r\"\\1\\1\"\n",
    "\n",
    "    for tweet in tqdm(text_data):\n",
    "        tweet = tweet.lower()\n",
    "\n",
    "        # Replace all URls with 'URL'\n",
    "        tweet = re.sub(url_pattern, \" URL\", tweet)\n",
    "        # Replace all emojis\n",
    "        for emoji in emojis:\n",
    "            tweet = tweet.replace(emoji, \"EMOJI\" + emojis[emoji])\n",
    "        # Replace @USERNAME to 'USER'\n",
    "        tweet = re.sub(user_pattern, \" USER\", tweet)\n",
    "        # Replace all non alphabets\n",
    "        tweet = re.sub(alpha_pattern, \" \", tweet)\n",
    "        # Replace 3 or more consecutive letters by 2 letter\n",
    "        tweet = re.sub(sequence_pattern, seq_replace_pattern, tweet)\n",
    "\n",
    "        preprocessed_words = []\n",
    "        for word in tweet.split():\n",
    "            # Check if the word is a stopword\n",
    "            if len(word) > 1 and word not in all_stopwords:\n",
    "                # Lemmatizing the word\n",
    "                word = lemmatizer.lemmatize(word)\n",
    "                preprocessed_words.append(word)\n",
    "\n",
    "        processed_text.append(\" \".join(preprocessed_words))\n",
    "\n",
    "    return processed_text"
   ]
  },
  {
   "cell_type": "code",
   "execution_count": 8,
   "metadata": {},
   "outputs": [
    {
     "name": "stderr",
     "output_type": "stream",
     "text": [
      "100%|██████████| 1600000/1600000 [01:10<00:00, 22710.96it/s]\n"
     ]
    },
    {
     "data": {
      "text/plain": [
       "['USER URL aww bummer shoulda got david carr third day EMOJIwink',\n",
       " 'upset update facebook texting might cry result school today also blah',\n",
       " 'USER dived many time ball managed save 50 rest go bound',\n",
       " 'whole body feel itchy like fire',\n",
       " 'USER behaving mad see']"
      ]
     },
     "execution_count": 8,
     "metadata": {},
     "output_type": "execute_result"
    }
   ],
   "source": [
    "processed_text = preprocess(text)\n",
    "\n",
    "# Display first five tweets\n",
    "processed_text[:5]"
   ]
  },
  {
   "cell_type": "code",
   "execution_count": 9,
   "metadata": {},
   "outputs": [],
   "source": [
    "X_train, X_test, y_train, y_test = train_test_split(\n",
    "    processed_text, sentiment, test_size=0.05, random_state=0\n",
    ")"
   ]
  },
  {
   "cell_type": "code",
   "execution_count": 10,
   "metadata": {},
   "outputs": [],
   "source": [
    "vectorizer = TfidfVectorizer(ngram_range=(1, 2), max_features=500000)"
   ]
  },
  {
   "cell_type": "code",
   "execution_count": 11,
   "metadata": {},
   "outputs": [],
   "source": [
    "X_train = vectorizer.fit_transform(X_train)\n",
    "X_test = vectorizer.transform(X_test)"
   ]
  },
  {
   "cell_type": "code",
   "execution_count": 12,
   "metadata": {},
   "outputs": [],
   "source": [
    "def model_evaluate(model):\n",
    "    y_pred = model.predict(X_test)\n",
    "    print(classification_report(y_test, y_pred))"
   ]
  },
  {
   "cell_type": "code",
   "execution_count": 13,
   "metadata": {},
   "outputs": [
    {
     "name": "stdout",
     "output_type": "stream",
     "text": [
      "              precision    recall  f1-score   support\n",
      "\n",
      "           0       0.79      0.77      0.78     39989\n",
      "           1       0.78      0.80      0.79     40011\n",
      "\n",
      "    accuracy                           0.78     80000\n",
      "   macro avg       0.78      0.78      0.78     80000\n",
      "weighted avg       0.78      0.78      0.78     80000\n",
      "\n"
     ]
    }
   ],
   "source": [
    "bnb = BernoulliNB(alpha=2)\n",
    "bnb.fit(X_train, y_train)\n",
    "model_evaluate(bnb)"
   ]
  },
  {
   "cell_type": "code",
   "execution_count": 14,
   "metadata": {},
   "outputs": [
    {
     "name": "stdout",
     "output_type": "stream",
     "text": [
      "              precision    recall  f1-score   support\n",
      "\n",
      "           0       0.79      0.77      0.78     39989\n",
      "           1       0.78      0.80      0.79     40011\n",
      "\n",
      "    accuracy                           0.78     80000\n",
      "   macro avg       0.78      0.78      0.78     80000\n",
      "weighted avg       0.78      0.78      0.78     80000\n",
      "\n"
     ]
    }
   ],
   "source": [
    "svc = LinearSVC(dual=\"auto\")\n",
    "svc.fit(X_train, y_train)\n",
    "model_evaluate(svc)"
   ]
  },
  {
   "cell_type": "code",
   "execution_count": 15,
   "metadata": {},
   "outputs": [
    {
     "name": "stdout",
     "output_type": "stream",
     "text": [
      "              precision    recall  f1-score   support\n",
      "\n",
      "           0       0.81      0.78      0.79     39989\n",
      "           1       0.79      0.81      0.80     40011\n",
      "\n",
      "    accuracy                           0.80     80000\n",
      "   macro avg       0.80      0.80      0.80     80000\n",
      "weighted avg       0.80      0.80      0.80     80000\n",
      "\n"
     ]
    }
   ],
   "source": [
    "lr = LogisticRegression(C=2, max_iter=1000, n_jobs=-1)\n",
    "lr.fit(X_train, y_train)\n",
    "model_evaluate(lr)"
   ]
  },
  {
   "cell_type": "code",
   "execution_count": 16,
   "metadata": {},
   "outputs": [
    {
     "name": "stdout",
     "output_type": "stream",
     "text": [
      "              precision    recall  f1-score   support\n",
      "\n",
      "           0       0.79      0.77      0.78     39989\n",
      "           1       0.78      0.80      0.79     40011\n",
      "\n",
      "    accuracy                           0.78     80000\n",
      "   macro avg       0.78      0.78      0.78     80000\n",
      "weighted avg       0.78      0.78      0.78     80000\n",
      "\n"
     ]
    }
   ],
   "source": [
    "# Pipeline!!\n",
    "from sklearn.pipeline import Pipeline\n",
    "\n",
    "\n",
    "X_train, X_test, y_train, y_test = train_test_split(\n",
    "    processed_text, sentiment, test_size=0.05, random_state=0\n",
    ")\n",
    "\n",
    "pipe = Pipeline([(\"vectorizer\", vectorizer), (\"bnb\", bnb)])\n",
    "pipe.fit(X_train, y_train)\n",
    "\n",
    "model_evaluate(pipe)"
   ]
  },
  {
   "cell_type": "code",
   "execution_count": 17,
   "metadata": {},
   "outputs": [
    {
     "name": "stdout",
     "output_type": "stream",
     "text": [
      "              precision    recall  f1-score   support\n",
      "\n",
      "           0       0.79      0.77      0.78     39989\n",
      "           1       0.78      0.80      0.79     40011\n",
      "\n",
      "    accuracy                           0.78     80000\n",
      "   macro avg       0.78      0.78      0.78     80000\n",
      "weighted avg       0.78      0.78      0.78     80000\n",
      "\n"
     ]
    }
   ],
   "source": [
    "# Save\n",
    "with open(\"api/models/pipeline.pkl\", \"wb\") as f:\n",
    "    pickle.dump(pipe, f)\n",
    "\n",
    "# Load\n",
    "with open(\"api/models/pipeline.pkl\", \"rb\") as f:\n",
    "    loaded_pipe = pickle.load(f)\n",
    "\n",
    "model_evaluate(loaded_pipe)"
   ]
  },
  {
   "cell_type": "code",
   "execution_count": 18,
   "metadata": {},
   "outputs": [
    {
     "name": "stderr",
     "output_type": "stream",
     "text": [
      "100%|██████████| 3/3 [00:00<00:00, 228.54it/s]"
     ]
    },
    {
     "name": "stdout",
     "output_type": "stream",
     "text": [
      "[('I hate twitter', 0, 'Negative'), ('May the Force be with you.', 1, 'Positive'), (\"Mr. Stark, I don't feel so good\", 1, 'Positive')]\n"
     ]
    },
    {
     "name": "stderr",
     "output_type": "stream",
     "text": [
      "\n"
     ]
    }
   ],
   "source": [
    "def predict(model, text):\n",
    "    # Predict the sentiment\n",
    "    preprocessed_text = preprocess(text)\n",
    "    predictions = model.predict(preprocessed_text)\n",
    "\n",
    "    pred_to_label = {0: \"Negative\", 1: \"Positive\"}\n",
    "\n",
    "    # Make a list of text with sentiment.\n",
    "    data = []\n",
    "    for t, pred in zip(text, predictions):\n",
    "        data.append((t, pred, pred_to_label[pred]))\n",
    "\n",
    "    return data\n",
    "\n",
    "\n",
    "if __name__ == \"__main__\":\n",
    "    # Text to classify should be in a list.\n",
    "    text = [\n",
    "        \"I hate twitter\",\n",
    "        \"May the Force be with you.\",\n",
    "        \"Mr. Stark, I don't feel so good\",\n",
    "    ]\n",
    "\n",
    "    predictions = predict(loaded_pipe, text)\n",
    "    print(predictions)"
   ]
  },
  {
   "cell_type": "code",
   "execution_count": null,
   "metadata": {},
   "outputs": [],
   "source": []
  }
 ],
 "metadata": {
  "kernelspec": {
   "display_name": "nlp",
   "language": "python",
   "name": "python3"
  },
  "language_info": {
   "codemirror_mode": {
    "name": "ipython",
    "version": 3
   },
   "file_extension": ".py",
   "mimetype": "text/x-python",
   "name": "python",
   "nbconvert_exporter": "python",
   "pygments_lexer": "ipython3",
   "version": "3.11.8"
  }
 },
 "nbformat": 4,
 "nbformat_minor": 2
}
